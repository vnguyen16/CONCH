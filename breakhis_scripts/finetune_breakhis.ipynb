{
 "cells": [
  {
   "cell_type": "code",
   "execution_count": 1,
   "metadata": {},
   "outputs": [
    {
     "name": "stderr",
     "output_type": "stream",
     "text": [
      "c:\\Users\\Vivian\\anaconda3\\envs\\conch\\lib\\site-packages\\timm\\models\\layers\\__init__.py:48: FutureWarning: Importing from timm.models.layers is deprecated, please import via timm.layers\n",
      "  warnings.warn(f\"Importing from {__name__} is deprecated, please import via timm.layers\", FutureWarning)\n"
     ]
    }
   ],
   "source": [
    "import sys\n",
    "sys.path.append(r\"C:\\Users\\Vivian\\Documents\\CONCH\\conch\")\n",
    "\n",
    "from open_clip_custom import create_model_from_pretrained, tokenize, get_tokenizer\n",
    "import torch\n",
    "import os\n",
    "from PIL import Image\n",
    "from pathlib import Path\n",
    "from tqdm import tqdm\n",
    "\n",
    "# show all jupyter output\n",
    "from IPython.core.interactiveshell import InteractiveShell\n",
    "InteractiveShell.ast_node_interactivity = \"all\""
   ]
  },
  {
   "cell_type": "markdown",
   "metadata": {},
   "source": [
    "Finetuning"
   ]
  },
  {
   "cell_type": "code",
   "execution_count": 2,
   "metadata": {},
   "outputs": [],
   "source": [
    "# from conch.open_clip_custom import create_model_from_pretrained, tokenize, get_tokenizer\n",
    "from torch import nn\n",
    "import os\n",
    "from PIL import Image\n",
    "from pathlib import Path\n",
    "from tqdm import tqdm\n",
    "import pandas as pd\n",
    "# import glob\n",
    "\n",
    "import matplotlib.pyplot as plt\n",
    "import numpy as np\n",
    "\n",
    "# import tqdm\n",
    "\n",
    "# import skimage\n",
    "\n",
    "from torch.utils.data import DataLoader, Dataset\n",
    "\n",
    "import os\n",
    "from torchvision import transforms\n",
    "# import timm\n",
    "from huggingface_hub import login, hf_hub_download\n",
    "\n",
    "# show all jupyter output\n",
    "from IPython.core.interactiveshell import InteractiveShell\n",
    "InteractiveShell.ast_node_interactivity = \"all\""
   ]
  },
  {
   "cell_type": "markdown",
   "metadata": {},
   "source": [
    "load conch"
   ]
  },
  {
   "cell_type": "code",
   "execution_count": 3,
   "metadata": {},
   "outputs": [],
   "source": [
    "class CONCHModelForFinetuning(nn.Module):\n",
    "    def __init__(self, num_classes=8, config={'hidden_size': 512}): # change number of classes for each dataset(8 for breast, 2 for breast)\n",
    "        super().__init__()\n",
    "        self.config = config\n",
    "        self.model = self.make_conch()\n",
    "        # self.fc = nn.Linear(self.config['hidden_size'], num_classes) # full finetuning?\n",
    "\n",
    "        # linear probing\n",
    "        # Freeze all parameters in the backbone\n",
    "        # for param in self.model.parameters():\n",
    "        #     param.requires_grad = False\n",
    "\n",
    "        # Only this linear layer will be trained\n",
    "        self.fc = nn.Linear(self.config['hidden_size'], num_classes)\n",
    "\n",
    "    def make_conch(self):\n",
    "        # Load the model from \"create_model_from_pretrained\"\n",
    "        model_cfg = 'conch_ViT-B-16'\n",
    "        device = torch.device('cuda' if torch.cuda.is_available() else 'cpu')\n",
    "        # checkpoint_path = 'checkpoints/CONCH/pytorch_model.bin'\n",
    "        checkpoint_path = 'C:\\\\Users\\\\Vivian\\\\Documents\\\\CONCH\\\\checkpoints\\\\conch\\\\pytorch_model.bin' # load in checkpoint here\n",
    "        # checkpoint_path = r'C:\\Users\\Vivian\\Documents\\CONCH\\_finetune_weights\\Fold2_F_PT_model.pth' # loading breakhis finetuned model\n",
    "        model, preprocess = create_model_from_pretrained(model_cfg, checkpoint_path, device=device)\n",
    "        \n",
    "        return model\n",
    "        \n",
    "    def forward(self, x):\n",
    "        out, h = self.model.visual(x)\n",
    "        return self.fc(out)"
   ]
  },
  {
   "cell_type": "code",
   "execution_count": 4,
   "metadata": {},
   "outputs": [
    {
     "name": "stderr",
     "output_type": "stream",
     "text": [
      "C:\\Users\\Vivian\\Documents\\CONCH\\conch\\open_clip_custom\\factory.py:18: FutureWarning: You are using `torch.load` with `weights_only=False` (the current default value), which uses the default pickle module implicitly. It is possible to construct malicious pickle data which will execute arbitrary code during unpickling (See https://github.com/pytorch/pytorch/blob/main/SECURITY.md#untrusted-models for more details). In a future release, the default value for `weights_only` will be flipped to `True`. This limits the functions that could be executed during unpickling. Arbitrary objects will no longer be allowed to be loaded via this mode unless they are explicitly allowlisted by the user via `torch.serialization.add_safe_globals`. We recommend you start setting `weights_only=True` for any use case where you don't have full control of the loaded file. Please open an issue on GitHub for any issues related to this experimental feature.\n",
      "  checkpoint = torch.load(checkpoint_path, map_location=map_location)\n"
     ]
    }
   ],
   "source": [
    "model = CONCHModelForFinetuning().to('cuda')"
   ]
  },
  {
   "cell_type": "markdown",
   "metadata": {},
   "source": [
    "Load UNi"
   ]
  },
  {
   "cell_type": "code",
   "execution_count": 3,
   "metadata": {},
   "outputs": [],
   "source": [
    "import os\n",
    "import torch\n",
    "from torchvision import transforms\n",
    "import timm\n",
    "\n",
    "class UNIModelForFinetuning(nn.Module):\n",
    "    def __init__(self, num_classes=8,checkpoint_path=None): # change number of classes accordingly \n",
    "        ## ************ change for UNI ************\n",
    "        super().__init__()\n",
    "        # self.config = config\n",
    "        self.model = self.make_uni()\n",
    "        # self.fc = nn.Linear(self.config['hidden_size'], num_classes) # keep commented\n",
    "        # self.fc = nn.Linear(1024, num_classes)  # Match Vision Transformer output # full finetuning\n",
    "\n",
    "        #***** Freeze all backbone parameters - linear probing *****\n",
    "        # for param in self.model.parameters():\n",
    "        #     param.requires_grad = False\n",
    "\n",
    "        # Add a trainable classification head\n",
    "        self.fc = nn.Linear(1024, num_classes)\n",
    "\n",
    "        # ----- Load checkpoint if needed -----\n",
    "        if checkpoint_path:\n",
    "            print(f\"Loading checkpoint from: {checkpoint_path}\")\n",
    "            self.load_state_dict(torch.load(checkpoint_path, map_location='cuda'))\n",
    "    \n",
    "    def make_uni(self):\n",
    "        local_dir = r\"C:\\Users\\Vivian\\Documents\\CONCH\\checkpoints\\uni\" # load in UNI model\n",
    "        os.makedirs(local_dir, exist_ok=True)  # create directory if it does not exist\n",
    "        \n",
    "        model = timm.create_model(\n",
    "            \"vit_large_patch16_224\", img_size=224, patch_size=16, init_values=1e-5, num_classes=0, dynamic_img_size=True\n",
    "        )\n",
    "        model.load_state_dict(torch.load(os.path.join(local_dir, \"pytorch_model.bin\"), map_location=\"cpu\"), strict=True)\n",
    "        \n",
    "        return model \n",
    "    \n",
    "    def forward(self, x):\n",
    "        out = self.model(x)\n",
    "        return self.fc(out)"
   ]
  },
  {
   "cell_type": "code",
   "execution_count": 4,
   "metadata": {},
   "outputs": [
    {
     "name": "stderr",
     "output_type": "stream",
     "text": [
      "C:\\Users\\Vivian\\AppData\\Local\\Temp\\ipykernel_29020\\969011001.py:34: FutureWarning: You are using `torch.load` with `weights_only=False` (the current default value), which uses the default pickle module implicitly. It is possible to construct malicious pickle data which will execute arbitrary code during unpickling (See https://github.com/pytorch/pytorch/blob/main/SECURITY.md#untrusted-models for more details). In a future release, the default value for `weights_only` will be flipped to `True`. This limits the functions that could be executed during unpickling. Arbitrary objects will no longer be allowed to be loaded via this mode unless they are explicitly allowlisted by the user via `torch.serialization.add_safe_globals`. We recommend you start setting `weights_only=True` for any use case where you don't have full control of the loaded file. Please open an issue on GitHub for any issues related to this experimental feature.\n",
      "  model.load_state_dict(torch.load(os.path.join(local_dir, \"pytorch_model.bin\"), map_location=\"cpu\"), strict=True)\n"
     ]
    }
   ],
   "source": [
    "model = UNIModelForFinetuning().to('cuda')"
   ]
  },
  {
   "cell_type": "code",
   "execution_count": 5,
   "metadata": {},
   "outputs": [],
   "source": [
    "from torch.utils.data import Dataset\n",
    "# import skimage.io\n",
    "import skimage.transform\n",
    "import matplotlib.pyplot as plt\n",
    "\n",
    "class HistopathologyDataset(Dataset):\n",
    "    def __init__(self, dataframe, transform=None):\n",
    "        self.data = dataframe.reset_index(drop=True)\n",
    "        self.transform = transform\n",
    "        self.label_map = {\n",
    "            'B_A': 0,\n",
    "            'B_F': 1,\n",
    "            'B_PT': 2,\n",
    "            'B_TA': 3,\n",
    "            'M_DC': 4,\n",
    "            'M_LC': 5,\n",
    "            'M_MC': 6,\n",
    "            'M_PC': 7\n",
    "        }\n",
    "\n",
    "    def __len__(self):\n",
    "        return len(self.data)\n",
    "\n",
    "    def __getitem__(self, idx):\n",
    "        row = self.data.iloc[idx]\n",
    "        img_path = row['image']\n",
    "        class_name = row['class']\n",
    "        subclass_name = row['subclass']\n",
    "        label = self.label_map[class_name + '_' + subclass_name]\n",
    "\n",
    "        # image = skimage.io.imread(img_path)\n",
    "        # image = skimage.transform.resize(image, (224, 224), anti_aliasing=True)\n",
    "        # image = image.transpose((2, 0, 1))  # HWC → CHW\n",
    "        # image = image.astype(np.float32) # Ensure float32\n",
    "\n",
    "        # image = plt.imread(img_path)\n",
    "        # image = skimage.transform.resize(image, (224, 224))\n",
    "        # image = image.transpose((2, 0, 1))\n",
    "        # image = image.astype(np.float32)\n",
    "\n",
    "        try:\n",
    "        #     image = Image.open(img_path).convert(\"RGB\")\n",
    "        #     image = image.resize((224, 224))\n",
    "        #     image = np.array(image).transpose((2, 0, 1))  # CHW format\n",
    "        #     image = torch.tensor(image, dtype=torch.float32) / 255.0\n",
    "\n",
    "            image = plt.imread(img_path)\n",
    "            image = skimage.transform.resize(image, (224, 224))\n",
    "            image = image.transpose((2, 0, 1))\n",
    "            image = image.astype(np.float32)\n",
    "        except Exception as e:\n",
    "            print(f\"⚠️ Error loading image at {img_path}: {e}\")\n",
    "            return self.__getitem__((idx + 1) % len(self))  # Try next image\n",
    "\n",
    "\n",
    "        if self.transform:\n",
    "            image = self.transform(image)\n",
    "\n",
    "        return image, label\n"
   ]
  },
  {
   "cell_type": "markdown",
   "metadata": {},
   "source": [
    "run this"
   ]
  },
  {
   "cell_type": "code",
   "execution_count": 6,
   "metadata": {},
   "outputs": [],
   "source": [
    "import os\n",
    "import torch\n",
    "import tqdm\n",
    "import pandas as pd\n",
    "import numpy as np\n",
    "from sklearn.metrics import precision_score, recall_score, f1_score, classification_report\n",
    "\n",
    "\n",
    "def run_k_fold_finetuning(\n",
    "    model,\n",
    "    k_folds,\n",
    "    train_loader_fn,\n",
    "    test_loader_fn,\n",
    "    model_save_dir,\n",
    "    results_csv_path,\n",
    "    device='cuda',\n",
    "    lr=2e-5,\n",
    "    num_epochs=5,\n",
    "    patience=5,\n",
    "    is_binary=True,\n",
    "    save_summary=True\n",
    "):\n",
    "    os.makedirs(model_save_dir, exist_ok=True)\n",
    "    os.makedirs(os.path.dirname(results_csv_path), exist_ok=True)\n",
    "\n",
    "    all_fold_results = []\n",
    "    all_per_class_f1 = {}\n",
    "\n",
    "    for fold in range(1, k_folds + 1):\n",
    "        print(f\"\\n=== Fold {fold}/{k_folds} ===\")\n",
    "\n",
    "        train_loader = train_loader_fn(fold)\n",
    "        test_loader = test_loader_fn(fold)\n",
    "\n",
    "        model.fc = torch.nn.Linear(512, 2 if is_binary else 8).to(device)\n",
    "        optimizer = torch.optim.Adam(model.parameters(), lr=lr)  # Full fine-tuning\n",
    "        # optimizer = torch.optim.Adam(model.fc.parameters(), lr=lr)  # Linear probing\n",
    "        criterion = torch.nn.CrossEntropyLoss()\n",
    "        scaler = torch.cuda.amp.GradScaler()\n",
    "\n",
    "        best_acc = 0\n",
    "        epochs_no_improve = 0\n",
    "        model_path = os.path.join(model_save_dir, f\"fold{fold}.pth\")\n",
    "\n",
    "        for epoch in range(num_epochs):\n",
    "            model.train()\n",
    "            total_loss, correct, total = 0, 0, 0\n",
    "            y_true, y_pred = [], []\n",
    "\n",
    "            for images, labels, *_ in tqdm.tqdm(train_loader, desc=f\"Fold {fold} - Epoch {epoch+1}\", total=len(train_loader)):\n",
    "                images, labels = images.to(device), labels.to(device)\n",
    "                optimizer.zero_grad()\n",
    "\n",
    "                with torch.cuda.amp.autocast():\n",
    "                    outputs = model(images)\n",
    "                    loss = criterion(outputs, labels)\n",
    "\n",
    "                scaler.scale(loss).backward()\n",
    "                scaler.step(optimizer)\n",
    "                scaler.update()\n",
    "\n",
    "                total_loss += loss.item()\n",
    "                _, predicted = torch.max(outputs, 1)\n",
    "                correct += (predicted == labels).sum().item()\n",
    "                total += labels.size(0)\n",
    "                y_true.extend(labels.cpu().numpy())\n",
    "                y_pred.extend(predicted.cpu().numpy())\n",
    "\n",
    "            acc = correct / total\n",
    "            print(f\"Epoch {epoch+1}: Train Loss = {total_loss:.4f}, Train Acc = {acc:.4f}\")\n",
    "\n",
    "            if acc > best_acc:\n",
    "                best_acc = acc\n",
    "                epochs_no_improve = 0\n",
    "                torch.save(model.state_dict(), model_path)\n",
    "                print(f\"✅ Model saved at epoch {epoch+1} with train acc: {acc:.4f}\")\n",
    "            else:\n",
    "                epochs_no_improve += 1\n",
    "                print(f\"No improvement for {epochs_no_improve} epoch(s)\")\n",
    "                if epochs_no_improve >= patience:\n",
    "                    print(\"⏹️ Early stopping triggered.\")\n",
    "                    break\n",
    "\n",
    "        # --- Final Test ---\n",
    "        model.load_state_dict(torch.load(model_path))\n",
    "        model.eval()\n",
    "        y_test, y_pred_test = [], []\n",
    "        with torch.no_grad():\n",
    "            for images, labels, *_ in tqdm.tqdm(test_loader, desc=f\"Fold {fold} [Test]\"):\n",
    "                images, labels = images.to(device), labels.to(device)\n",
    "                outputs = model(images)\n",
    "                _, predicted = torch.max(outputs, 1)\n",
    "                y_test.extend(labels.cpu().numpy())\n",
    "                y_pred_test.extend(predicted.cpu().numpy())\n",
    "\n",
    "        test_acc = (np.array(y_test) == np.array(y_pred_test)).mean()\n",
    "        prec = precision_score(y_test, y_pred_test, average='binary' if is_binary else 'weighted')\n",
    "        rec = recall_score(y_test, y_pred_test, average='binary' if is_binary else 'weighted')\n",
    "        f1 = f1_score(y_test, y_pred_test, average='binary' if is_binary else 'weighted')\n",
    "\n",
    "        class_report = classification_report(y_test, y_pred_test, output_dict=True)\n",
    "        for cls, metrics in class_report.items():\n",
    "            if cls.isdigit():  # skip 'accuracy', 'macro avg', etc.\n",
    "                cls = int(cls)\n",
    "                if cls not in all_per_class_f1:\n",
    "                    all_per_class_f1[cls] = []\n",
    "                all_per_class_f1[cls].append(metrics['f1-score'])\n",
    "\n",
    "        result = {\n",
    "            'Fold': fold,\n",
    "            'Best Train Accuracy': best_acc,\n",
    "            'Test Accuracy': test_acc,\n",
    "            'Test Precision': prec,\n",
    "            'Test Recall': rec,\n",
    "            'Test F1': f1\n",
    "        }\n",
    "        all_fold_results.append(result)\n",
    "\n",
    "    # Save all fold results\n",
    "    results_df = pd.DataFrame(all_fold_results)\n",
    "    results_df.to_csv(results_csv_path, index=False)\n",
    "    print(\"✅ All folds complete. Results saved.\")\n",
    "\n",
    "    # --- Compute means and stds across folds ---\n",
    "    avg_metrics = results_df.iloc[:, 1:].mean()\n",
    "    std_metrics = results_df.iloc[:, 1:].std()\n",
    "\n",
    "    print(\"\\n📊 Cross-Validation Averages ± Std:\")\n",
    "    for col in avg_metrics.index:\n",
    "        print(f\"{col}: {avg_metrics[col]:.4f} ± {std_metrics[col]:.4f}\")\n",
    "\n",
    "    # --- Per-class F1 average and std ---\n",
    "    class_f1_rows = []\n",
    "    print(\"\\n📊 Per-Class F1 Scores:\")\n",
    "    for cls, scores in all_per_class_f1.items():\n",
    "        mean_f1 = np.mean(scores)\n",
    "        std_f1 = np.std(scores)\n",
    "        print(f\"Class {cls}: {mean_f1:.4f} ± {std_f1:.4f}\")\n",
    "        class_f1_rows.append({\"Fold\": f\"Class {cls}\", \"F1 Mean\": mean_f1, \"F1 Std\": std_f1})\n",
    "\n",
    "    # --- Append summary rows to CSV ---\n",
    "    if save_summary:\n",
    "        summary_df = pd.DataFrame([\n",
    "            {'Fold': 'Average', **avg_metrics.to_dict()},\n",
    "            {'Fold': 'Std Dev', **std_metrics.to_dict()}\n",
    "        ])\n",
    "        pd.concat([results_df, summary_df, pd.DataFrame(class_f1_rows)], axis=0).to_csv(results_csv_path, index=False)\n",
    "        print(f\"📁 Appended summary rows to: {results_csv_path}\")\n"
   ]
  },
  {
   "cell_type": "code",
   "execution_count": 7,
   "metadata": {},
   "outputs": [],
   "source": [
    "import pandas as pd\n",
    "from torch.utils.data import DataLoader\n",
    "\n",
    "metadata = pd.read_csv(r'C:\\Users\\Vivian\\Documents\\CONCH\\breakhis_scripts\\metadata_folds.csv')\n",
    "\n",
    "def make_train_loader(fold, batch_size=8):\n",
    "    train_df = metadata[metadata['fold'] != fold]\n",
    "    train_dataset = HistopathologyDataset(train_df)\n",
    "    return DataLoader(train_dataset, batch_size=batch_size, shuffle=True)\n",
    "\n",
    "def make_test_loader(fold, batch_size=8):\n",
    "    test_df = metadata[metadata['fold'] == fold]\n",
    "    test_dataset = HistopathologyDataset(test_df)\n",
    "    return DataLoader(test_dataset, batch_size=batch_size, shuffle=False)\n"
   ]
  },
  {
   "cell_type": "code",
   "execution_count": 8,
   "metadata": {},
   "outputs": [
    {
     "name": "stderr",
     "output_type": "stream",
     "text": [
      "C:\\Users\\Vivian\\AppData\\Local\\Temp\\ipykernel_27992\\3022664669.py:39: FutureWarning: `torch.cuda.amp.GradScaler(args...)` is deprecated. Please use `torch.amp.GradScaler('cuda', args...)` instead.\n",
      "  scaler = torch.cuda.amp.GradScaler()\n"
     ]
    },
    {
     "name": "stdout",
     "output_type": "stream",
     "text": [
      "\n",
      "=== Fold 1/5 ===\n"
     ]
    },
    {
     "name": "stderr",
     "output_type": "stream",
     "text": [
      "Fold 1 - Epoch 1:   0%|          | 0/771 [00:00<?, ?it/s]C:\\Users\\Vivian\\AppData\\Local\\Temp\\ipykernel_27992\\3022664669.py:54: FutureWarning: `torch.cuda.amp.autocast(args...)` is deprecated. Please use `torch.amp.autocast('cuda', args...)` instead.\n",
      "  with torch.cuda.amp.autocast():\n",
      "Fold 1 - Epoch 1: 100%|██████████| 771/771 [02:43<00:00,  4.72it/s]\n"
     ]
    },
    {
     "name": "stdout",
     "output_type": "stream",
     "text": [
      "Epoch 1: Train Loss = 425.3006, Train Acc = 0.8122\n",
      "✅ Model saved at epoch 1 with train acc: 0.8122\n"
     ]
    },
    {
     "name": "stderr",
     "output_type": "stream",
     "text": [
      "Fold 1 - Epoch 2: 100%|██████████| 771/771 [02:44<00:00,  4.67it/s]\n"
     ]
    },
    {
     "name": "stdout",
     "output_type": "stream",
     "text": [
      "Epoch 2: Train Loss = 59.2847, Train Acc = 0.9778\n",
      "✅ Model saved at epoch 2 with train acc: 0.9778\n"
     ]
    },
    {
     "name": "stderr",
     "output_type": "stream",
     "text": [
      "Fold 1 - Epoch 3: 100%|██████████| 771/771 [02:44<00:00,  4.70it/s]\n"
     ]
    },
    {
     "name": "stdout",
     "output_type": "stream",
     "text": [
      "Epoch 3: Train Loss = 20.8828, Train Acc = 0.9919\n",
      "✅ Model saved at epoch 3 with train acc: 0.9919\n"
     ]
    },
    {
     "name": "stderr",
     "output_type": "stream",
     "text": [
      "Fold 1 - Epoch 4: 100%|██████████| 771/771 [02:44<00:00,  4.70it/s]\n"
     ]
    },
    {
     "name": "stdout",
     "output_type": "stream",
     "text": [
      "Epoch 4: Train Loss = 30.6142, Train Acc = 0.9883\n",
      "No improvement for 1 epoch(s)\n"
     ]
    },
    {
     "name": "stderr",
     "output_type": "stream",
     "text": [
      "Fold 1 - Epoch 5: 100%|██████████| 771/771 [02:45<00:00,  4.67it/s]\n",
      "C:\\Users\\Vivian\\AppData\\Local\\Temp\\ipykernel_27992\\3022664669.py:85: FutureWarning: You are using `torch.load` with `weights_only=False` (the current default value), which uses the default pickle module implicitly. It is possible to construct malicious pickle data which will execute arbitrary code during unpickling (See https://github.com/pytorch/pytorch/blob/main/SECURITY.md#untrusted-models for more details). In a future release, the default value for `weights_only` will be flipped to `True`. This limits the functions that could be executed during unpickling. Arbitrary objects will no longer be allowed to be loaded via this mode unless they are explicitly allowlisted by the user via `torch.serialization.add_safe_globals`. We recommend you start setting `weights_only=True` for any use case where you don't have full control of the loaded file. Please open an issue on GitHub for any issues related to this experimental feature.\n",
      "  model.load_state_dict(torch.load(model_path))\n"
     ]
    },
    {
     "name": "stdout",
     "output_type": "stream",
     "text": [
      "Epoch 5: Train Loss = 32.1546, Train Acc = 0.9859\n",
      "No improvement for 2 epoch(s)\n"
     ]
    },
    {
     "name": "stderr",
     "output_type": "stream",
     "text": [
      "Fold 1 [Test]:  28%|██▊       | 60/218 [00:11<00:32,  4.82it/s]"
     ]
    },
    {
     "name": "stdout",
     "output_type": "stream",
     "text": [
      "⚠️ Error loading image at /Users/Vivian/Documents/CONCH/Folds/Fold 1/train/SOB_M_DC-14-13412-200-021.png: not a PNG file\n"
     ]
    },
    {
     "name": "stderr",
     "output_type": "stream",
     "text": [
      "Fold 1 [Test]: 100%|██████████| 218/218 [00:44<00:00,  4.88it/s]\n",
      "c:\\Users\\Vivian\\anaconda3\\envs\\conch\\lib\\site-packages\\sklearn\\metrics\\_classification.py:1531: UndefinedMetricWarning: Recall is ill-defined and being set to 0.0 in labels with no true samples. Use `zero_division` parameter to control this behavior.\n",
      "  _warn_prf(average, modifier, f\"{metric.capitalize()} is\", len(result))\n",
      "c:\\Users\\Vivian\\anaconda3\\envs\\conch\\lib\\site-packages\\sklearn\\metrics\\_classification.py:1531: UndefinedMetricWarning: Recall is ill-defined and being set to 0.0 in labels with no true samples. Use `zero_division` parameter to control this behavior.\n",
      "  _warn_prf(average, modifier, f\"{metric.capitalize()} is\", len(result))\n",
      "c:\\Users\\Vivian\\anaconda3\\envs\\conch\\lib\\site-packages\\sklearn\\metrics\\_classification.py:1531: UndefinedMetricWarning: Recall is ill-defined and being set to 0.0 in labels with no true samples. Use `zero_division` parameter to control this behavior.\n",
      "  _warn_prf(average, modifier, f\"{metric.capitalize()} is\", len(result))\n",
      "c:\\Users\\Vivian\\anaconda3\\envs\\conch\\lib\\site-packages\\sklearn\\metrics\\_classification.py:1531: UndefinedMetricWarning: Recall is ill-defined and being set to 0.0 in labels with no true samples. Use `zero_division` parameter to control this behavior.\n",
      "  _warn_prf(average, modifier, f\"{metric.capitalize()} is\", len(result))\n",
      "C:\\Users\\Vivian\\AppData\\Local\\Temp\\ipykernel_27992\\3022664669.py:39: FutureWarning: `torch.cuda.amp.GradScaler(args...)` is deprecated. Please use `torch.amp.GradScaler('cuda', args...)` instead.\n",
      "  scaler = torch.cuda.amp.GradScaler()\n"
     ]
    },
    {
     "name": "stdout",
     "output_type": "stream",
     "text": [
      "\n",
      "=== Fold 2/5 ===\n"
     ]
    },
    {
     "name": "stderr",
     "output_type": "stream",
     "text": [
      "Fold 2 - Epoch 1:   0%|          | 0/773 [00:00<?, ?it/s]C:\\Users\\Vivian\\AppData\\Local\\Temp\\ipykernel_27992\\3022664669.py:54: FutureWarning: `torch.cuda.amp.autocast(args...)` is deprecated. Please use `torch.amp.autocast('cuda', args...)` instead.\n",
      "  with torch.cuda.amp.autocast():\n",
      "Fold 2 - Epoch 1:  42%|████▏     | 323/773 [01:09<01:35,  4.71it/s]"
     ]
    },
    {
     "name": "stdout",
     "output_type": "stream",
     "text": [
      "⚠️ Error loading image at /Users/Vivian/Documents/CONCH/Folds/Fold 1/train/SOB_M_DC-14-13412-200-021.png: not a PNG file\n"
     ]
    },
    {
     "name": "stderr",
     "output_type": "stream",
     "text": [
      "Fold 2 - Epoch 1: 100%|██████████| 773/773 [02:45<00:00,  4.67it/s]\n"
     ]
    },
    {
     "name": "stdout",
     "output_type": "stream",
     "text": [
      "Epoch 1: Train Loss = 159.0775, Train Acc = 0.9327\n",
      "✅ Model saved at epoch 1 with train acc: 0.9327\n"
     ]
    },
    {
     "name": "stderr",
     "output_type": "stream",
     "text": [
      "Fold 2 - Epoch 2:   8%|▊         | 60/773 [00:12<02:31,  4.70it/s]"
     ]
    },
    {
     "name": "stdout",
     "output_type": "stream",
     "text": [
      "⚠️ Error loading image at /Users/Vivian/Documents/CONCH/Folds/Fold 1/train/SOB_M_DC-14-13412-200-021.png: not a PNG file\n"
     ]
    },
    {
     "name": "stderr",
     "output_type": "stream",
     "text": [
      "Fold 2 - Epoch 2: 100%|██████████| 773/773 [02:44<00:00,  4.71it/s]\n"
     ]
    },
    {
     "name": "stdout",
     "output_type": "stream",
     "text": [
      "Epoch 2: Train Loss = 59.7294, Train Acc = 0.9662\n",
      "✅ Model saved at epoch 2 with train acc: 0.9662\n"
     ]
    },
    {
     "name": "stderr",
     "output_type": "stream",
     "text": [
      "Fold 2 - Epoch 3: 100%|█████████▉| 772/773 [02:43<00:00,  4.77it/s]"
     ]
    },
    {
     "name": "stdout",
     "output_type": "stream",
     "text": [
      "⚠️ Error loading image at /Users/Vivian/Documents/CONCH/Folds/Fold 1/train/SOB_M_DC-14-13412-200-021.png: not a PNG file\n"
     ]
    },
    {
     "name": "stderr",
     "output_type": "stream",
     "text": [
      "Fold 2 - Epoch 3: 100%|██████████| 773/773 [02:44<00:00,  4.71it/s]\n"
     ]
    },
    {
     "name": "stdout",
     "output_type": "stream",
     "text": [
      "Epoch 3: Train Loss = 50.1354, Train Acc = 0.9701\n",
      "✅ Model saved at epoch 3 with train acc: 0.9701\n"
     ]
    },
    {
     "name": "stderr",
     "output_type": "stream",
     "text": [
      "Fold 2 - Epoch 4:  20%|██        | 155/773 [00:33<02:12,  4.67it/s]"
     ]
    },
    {
     "name": "stdout",
     "output_type": "stream",
     "text": [
      "⚠️ Error loading image at /Users/Vivian/Documents/CONCH/Folds/Fold 1/train/SOB_M_DC-14-13412-200-021.png: not a PNG file\n"
     ]
    },
    {
     "name": "stderr",
     "output_type": "stream",
     "text": [
      "Fold 2 - Epoch 4: 100%|██████████| 773/773 [02:44<00:00,  4.69it/s]\n"
     ]
    },
    {
     "name": "stdout",
     "output_type": "stream",
     "text": [
      "Epoch 4: Train Loss = 37.4878, Train Acc = 0.9770\n",
      "✅ Model saved at epoch 4 with train acc: 0.9770\n"
     ]
    },
    {
     "name": "stderr",
     "output_type": "stream",
     "text": [
      "Fold 2 - Epoch 5:  59%|█████▊    | 454/773 [01:36<01:09,  4.60it/s]"
     ]
    },
    {
     "name": "stdout",
     "output_type": "stream",
     "text": [
      "⚠️ Error loading image at /Users/Vivian/Documents/CONCH/Folds/Fold 1/train/SOB_M_DC-14-13412-200-021.png: not a PNG file\n"
     ]
    },
    {
     "name": "stderr",
     "output_type": "stream",
     "text": [
      "Fold 2 - Epoch 5: 100%|██████████| 773/773 [02:44<00:00,  4.69it/s]\n",
      "C:\\Users\\Vivian\\AppData\\Local\\Temp\\ipykernel_27992\\3022664669.py:85: FutureWarning: You are using `torch.load` with `weights_only=False` (the current default value), which uses the default pickle module implicitly. It is possible to construct malicious pickle data which will execute arbitrary code during unpickling (See https://github.com/pytorch/pytorch/blob/main/SECURITY.md#untrusted-models for more details). In a future release, the default value for `weights_only` will be flipped to `True`. This limits the functions that could be executed during unpickling. Arbitrary objects will no longer be allowed to be loaded via this mode unless they are explicitly allowlisted by the user via `torch.serialization.add_safe_globals`. We recommend you start setting `weights_only=True` for any use case where you don't have full control of the loaded file. Please open an issue on GitHub for any issues related to this experimental feature.\n",
      "  model.load_state_dict(torch.load(model_path))\n"
     ]
    },
    {
     "name": "stdout",
     "output_type": "stream",
     "text": [
      "Epoch 5: Train Loss = 44.0986, Train Acc = 0.9702\n",
      "No improvement for 1 epoch(s)\n"
     ]
    },
    {
     "name": "stderr",
     "output_type": "stream",
     "text": [
      "Fold 2 [Test]: 100%|██████████| 216/216 [00:43<00:00,  4.94it/s]\n",
      "C:\\Users\\Vivian\\AppData\\Local\\Temp\\ipykernel_27992\\3022664669.py:39: FutureWarning: `torch.cuda.amp.GradScaler(args...)` is deprecated. Please use `torch.amp.GradScaler('cuda', args...)` instead.\n",
      "  scaler = torch.cuda.amp.GradScaler()\n"
     ]
    },
    {
     "name": "stdout",
     "output_type": "stream",
     "text": [
      "\n",
      "=== Fold 3/5 ===\n"
     ]
    },
    {
     "name": "stderr",
     "output_type": "stream",
     "text": [
      "Fold 3 - Epoch 1:   0%|          | 0/810 [00:00<?, ?it/s]C:\\Users\\Vivian\\AppData\\Local\\Temp\\ipykernel_27992\\3022664669.py:54: FutureWarning: `torch.cuda.amp.autocast(args...)` is deprecated. Please use `torch.amp.autocast('cuda', args...)` instead.\n",
      "  with torch.cuda.amp.autocast():\n",
      "Fold 3 - Epoch 1:  71%|███████   | 574/810 [02:03<00:49,  4.73it/s]"
     ]
    },
    {
     "name": "stdout",
     "output_type": "stream",
     "text": [
      "⚠️ Error loading image at /Users/Vivian/Documents/CONCH/Folds/Fold 1/train/SOB_M_DC-14-13412-200-021.png: not a PNG file\n"
     ]
    },
    {
     "name": "stderr",
     "output_type": "stream",
     "text": [
      "Fold 3 - Epoch 1: 100%|██████████| 810/810 [02:53<00:00,  4.67it/s]\n"
     ]
    },
    {
     "name": "stdout",
     "output_type": "stream",
     "text": [
      "Epoch 1: Train Loss = 122.3207, Train Acc = 0.9495\n",
      "✅ Model saved at epoch 1 with train acc: 0.9495\n"
     ]
    },
    {
     "name": "stderr",
     "output_type": "stream",
     "text": [
      "Fold 3 - Epoch 2:   3%|▎         | 24/810 [00:05<02:47,  4.69it/s]"
     ]
    },
    {
     "name": "stdout",
     "output_type": "stream",
     "text": [
      "⚠️ Error loading image at /Users/Vivian/Documents/CONCH/Folds/Fold 1/train/SOB_M_DC-14-13412-200-021.png: not a PNG file\n"
     ]
    },
    {
     "name": "stderr",
     "output_type": "stream",
     "text": [
      "Fold 3 - Epoch 2: 100%|██████████| 810/810 [02:54<00:00,  4.64it/s]\n"
     ]
    },
    {
     "name": "stdout",
     "output_type": "stream",
     "text": [
      "Epoch 2: Train Loss = 56.4066, Train Acc = 0.9674\n",
      "✅ Model saved at epoch 2 with train acc: 0.9674\n"
     ]
    },
    {
     "name": "stderr",
     "output_type": "stream",
     "text": [
      "Fold 3 - Epoch 3:  23%|██▎       | 184/810 [00:39<02:13,  4.69it/s]"
     ]
    },
    {
     "name": "stdout",
     "output_type": "stream",
     "text": [
      "⚠️ Error loading image at /Users/Vivian/Documents/CONCH/Folds/Fold 1/train/SOB_M_DC-14-13412-200-021.png: not a PNG file\n"
     ]
    },
    {
     "name": "stderr",
     "output_type": "stream",
     "text": [
      "Fold 3 - Epoch 3: 100%|██████████| 810/810 [02:53<00:00,  4.66it/s]\n"
     ]
    },
    {
     "name": "stdout",
     "output_type": "stream",
     "text": [
      "Epoch 3: Train Loss = 46.4986, Train Acc = 0.9722\n",
      "✅ Model saved at epoch 3 with train acc: 0.9722\n"
     ]
    },
    {
     "name": "stderr",
     "output_type": "stream",
     "text": [
      "Fold 3 - Epoch 4:  33%|███▎      | 267/810 [00:57<01:54,  4.75it/s]"
     ]
    },
    {
     "name": "stdout",
     "output_type": "stream",
     "text": [
      "⚠️ Error loading image at /Users/Vivian/Documents/CONCH/Folds/Fold 1/train/SOB_M_DC-14-13412-200-021.png: not a PNG file\n"
     ]
    },
    {
     "name": "stderr",
     "output_type": "stream",
     "text": [
      "Fold 3 - Epoch 4: 100%|██████████| 810/810 [02:53<00:00,  4.66it/s]\n"
     ]
    },
    {
     "name": "stdout",
     "output_type": "stream",
     "text": [
      "Epoch 4: Train Loss = 47.2162, Train Acc = 0.9708\n",
      "No improvement for 1 epoch(s)\n"
     ]
    },
    {
     "name": "stderr",
     "output_type": "stream",
     "text": [
      "Fold 3 - Epoch 5:  55%|█████▍    | 442/810 [01:35<01:17,  4.75it/s]"
     ]
    },
    {
     "name": "stdout",
     "output_type": "stream",
     "text": [
      "⚠️ Error loading image at /Users/Vivian/Documents/CONCH/Folds/Fold 1/train/SOB_M_DC-14-13412-200-021.png: not a PNG file\n"
     ]
    },
    {
     "name": "stderr",
     "output_type": "stream",
     "text": [
      "Fold 3 - Epoch 5: 100%|██████████| 810/810 [02:53<00:00,  4.66it/s]\n"
     ]
    },
    {
     "name": "stdout",
     "output_type": "stream",
     "text": [
      "Epoch 5: Train Loss = 29.3115, Train Acc = 0.9812\n",
      "✅ Model saved at epoch 5 with train acc: 0.9812\n"
     ]
    },
    {
     "name": "stderr",
     "output_type": "stream",
     "text": [
      "C:\\Users\\Vivian\\AppData\\Local\\Temp\\ipykernel_27992\\3022664669.py:85: FutureWarning: You are using `torch.load` with `weights_only=False` (the current default value), which uses the default pickle module implicitly. It is possible to construct malicious pickle data which will execute arbitrary code during unpickling (See https://github.com/pytorch/pytorch/blob/main/SECURITY.md#untrusted-models for more details). In a future release, the default value for `weights_only` will be flipped to `True`. This limits the functions that could be executed during unpickling. Arbitrary objects will no longer be allowed to be loaded via this mode unless they are explicitly allowlisted by the user via `torch.serialization.add_safe_globals`. We recommend you start setting `weights_only=True` for any use case where you don't have full control of the loaded file. Please open an issue on GitHub for any issues related to this experimental feature.\n",
      "  model.load_state_dict(torch.load(model_path))\n",
      "Fold 3 [Test]: 100%|██████████| 180/180 [00:34<00:00,  5.18it/s]\n",
      "c:\\Users\\Vivian\\anaconda3\\envs\\conch\\lib\\site-packages\\sklearn\\metrics\\_classification.py:1531: UndefinedMetricWarning: Recall is ill-defined and being set to 0.0 in labels with no true samples. Use `zero_division` parameter to control this behavior.\n",
      "  _warn_prf(average, modifier, f\"{metric.capitalize()} is\", len(result))\n",
      "c:\\Users\\Vivian\\anaconda3\\envs\\conch\\lib\\site-packages\\sklearn\\metrics\\_classification.py:1531: UndefinedMetricWarning: Recall is ill-defined and being set to 0.0 in labels with no true samples. Use `zero_division` parameter to control this behavior.\n",
      "  _warn_prf(average, modifier, f\"{metric.capitalize()} is\", len(result))\n",
      "c:\\Users\\Vivian\\anaconda3\\envs\\conch\\lib\\site-packages\\sklearn\\metrics\\_classification.py:1531: UndefinedMetricWarning: Recall is ill-defined and being set to 0.0 in labels with no true samples. Use `zero_division` parameter to control this behavior.\n",
      "  _warn_prf(average, modifier, f\"{metric.capitalize()} is\", len(result))\n",
      "c:\\Users\\Vivian\\anaconda3\\envs\\conch\\lib\\site-packages\\sklearn\\metrics\\_classification.py:1531: UndefinedMetricWarning: Recall is ill-defined and being set to 0.0 in labels with no true samples. Use `zero_division` parameter to control this behavior.\n",
      "  _warn_prf(average, modifier, f\"{metric.capitalize()} is\", len(result))\n",
      "C:\\Users\\Vivian\\AppData\\Local\\Temp\\ipykernel_27992\\3022664669.py:39: FutureWarning: `torch.cuda.amp.GradScaler(args...)` is deprecated. Please use `torch.amp.GradScaler('cuda', args...)` instead.\n",
      "  scaler = torch.cuda.amp.GradScaler()\n"
     ]
    },
    {
     "name": "stdout",
     "output_type": "stream",
     "text": [
      "\n",
      "=== Fold 4/5 ===\n"
     ]
    },
    {
     "name": "stderr",
     "output_type": "stream",
     "text": [
      "Fold 4 - Epoch 1:   0%|          | 0/811 [00:00<?, ?it/s]C:\\Users\\Vivian\\AppData\\Local\\Temp\\ipykernel_27992\\3022664669.py:54: FutureWarning: `torch.cuda.amp.autocast(args...)` is deprecated. Please use `torch.amp.autocast('cuda', args...)` instead.\n",
      "  with torch.cuda.amp.autocast():\n",
      "Fold 4 - Epoch 1:  51%|█████▏    | 417/811 [01:28<01:23,  4.72it/s]"
     ]
    },
    {
     "name": "stdout",
     "output_type": "stream",
     "text": [
      "⚠️ Error loading image at /Users/Vivian/Documents/CONCH/Folds/Fold 1/train/SOB_M_DC-14-13412-200-021.png: not a PNG file\n"
     ]
    },
    {
     "name": "stderr",
     "output_type": "stream",
     "text": [
      "Fold 4 - Epoch 1: 100%|██████████| 811/811 [02:52<00:00,  4.71it/s]\n"
     ]
    },
    {
     "name": "stdout",
     "output_type": "stream",
     "text": [
      "Epoch 1: Train Loss = 92.7990, Train Acc = 0.9631\n",
      "✅ Model saved at epoch 1 with train acc: 0.9631\n"
     ]
    },
    {
     "name": "stderr",
     "output_type": "stream",
     "text": [
      "Fold 4 - Epoch 2:  48%|████▊     | 390/811 [01:22<01:29,  4.71it/s]"
     ]
    },
    {
     "name": "stdout",
     "output_type": "stream",
     "text": [
      "⚠️ Error loading image at /Users/Vivian/Documents/CONCH/Folds/Fold 1/train/SOB_M_DC-14-13412-200-021.png: not a PNG file\n"
     ]
    },
    {
     "name": "stderr",
     "output_type": "stream",
     "text": [
      "Fold 4 - Epoch 2: 100%|██████████| 811/811 [02:52<00:00,  4.71it/s]\n"
     ]
    },
    {
     "name": "stdout",
     "output_type": "stream",
     "text": [
      "Epoch 2: Train Loss = 39.8107, Train Acc = 0.9746\n",
      "✅ Model saved at epoch 2 with train acc: 0.9746\n"
     ]
    },
    {
     "name": "stderr",
     "output_type": "stream",
     "text": [
      "Fold 4 - Epoch 3:  13%|█▎        | 105/811 [00:22<02:31,  4.66it/s]"
     ]
    },
    {
     "name": "stdout",
     "output_type": "stream",
     "text": [
      "⚠️ Error loading image at /Users/Vivian/Documents/CONCH/Folds/Fold 1/train/SOB_M_DC-14-13412-200-021.png: not a PNG file\n"
     ]
    },
    {
     "name": "stderr",
     "output_type": "stream",
     "text": [
      "Fold 4 - Epoch 3: 100%|██████████| 811/811 [02:51<00:00,  4.72it/s]\n"
     ]
    },
    {
     "name": "stdout",
     "output_type": "stream",
     "text": [
      "Epoch 3: Train Loss = 36.5073, Train Acc = 0.9766\n",
      "✅ Model saved at epoch 3 with train acc: 0.9766\n"
     ]
    },
    {
     "name": "stderr",
     "output_type": "stream",
     "text": [
      "Fold 4 - Epoch 4:  24%|██▍       | 198/811 [00:41<02:09,  4.72it/s]"
     ]
    },
    {
     "name": "stdout",
     "output_type": "stream",
     "text": [
      "⚠️ Error loading image at /Users/Vivian/Documents/CONCH/Folds/Fold 1/train/SOB_M_DC-14-13412-200-021.png: not a PNG file\n"
     ]
    },
    {
     "name": "stderr",
     "output_type": "stream",
     "text": [
      "Fold 4 - Epoch 4: 100%|██████████| 811/811 [02:52<00:00,  4.71it/s]\n"
     ]
    },
    {
     "name": "stdout",
     "output_type": "stream",
     "text": [
      "Epoch 4: Train Loss = 46.5677, Train Acc = 0.9744\n",
      "No improvement for 1 epoch(s)\n"
     ]
    },
    {
     "name": "stderr",
     "output_type": "stream",
     "text": [
      "Fold 4 - Epoch 5:  32%|███▏      | 258/811 [00:54<01:57,  4.72it/s]"
     ]
    },
    {
     "name": "stdout",
     "output_type": "stream",
     "text": [
      "⚠️ Error loading image at /Users/Vivian/Documents/CONCH/Folds/Fold 1/train/SOB_M_DC-14-13412-200-021.png: not a PNG file\n"
     ]
    },
    {
     "name": "stderr",
     "output_type": "stream",
     "text": [
      "Fold 4 - Epoch 5: 100%|██████████| 811/811 [02:52<00:00,  4.71it/s]\n",
      "C:\\Users\\Vivian\\AppData\\Local\\Temp\\ipykernel_27992\\3022664669.py:85: FutureWarning: You are using `torch.load` with `weights_only=False` (the current default value), which uses the default pickle module implicitly. It is possible to construct malicious pickle data which will execute arbitrary code during unpickling (See https://github.com/pytorch/pytorch/blob/main/SECURITY.md#untrusted-models for more details). In a future release, the default value for `weights_only` will be flipped to `True`. This limits the functions that could be executed during unpickling. Arbitrary objects will no longer be allowed to be loaded via this mode unless they are explicitly allowlisted by the user via `torch.serialization.add_safe_globals`. We recommend you start setting `weights_only=True` for any use case where you don't have full control of the loaded file. Please open an issue on GitHub for any issues related to this experimental feature.\n",
      "  model.load_state_dict(torch.load(model_path))\n"
     ]
    },
    {
     "name": "stdout",
     "output_type": "stream",
     "text": [
      "Epoch 5: Train Loss = 37.0677, Train Acc = 0.9752\n",
      "No improvement for 2 epoch(s)\n"
     ]
    },
    {
     "name": "stderr",
     "output_type": "stream",
     "text": [
      "Fold 4 [Test]: 100%|██████████| 179/179 [00:35<00:00,  5.04it/s]\n",
      "C:\\Users\\Vivian\\AppData\\Local\\Temp\\ipykernel_27992\\3022664669.py:39: FutureWarning: `torch.cuda.amp.GradScaler(args...)` is deprecated. Please use `torch.amp.GradScaler('cuda', args...)` instead.\n",
      "  scaler = torch.cuda.amp.GradScaler()\n"
     ]
    },
    {
     "name": "stdout",
     "output_type": "stream",
     "text": [
      "\n",
      "=== Fold 5/5 ===\n"
     ]
    },
    {
     "name": "stderr",
     "output_type": "stream",
     "text": [
      "Fold 5 - Epoch 1:   0%|          | 0/792 [00:00<?, ?it/s]C:\\Users\\Vivian\\AppData\\Local\\Temp\\ipykernel_27992\\3022664669.py:54: FutureWarning: `torch.cuda.amp.autocast(args...)` is deprecated. Please use `torch.amp.autocast('cuda', args...)` instead.\n",
      "  with torch.cuda.amp.autocast():\n",
      "Fold 5 - Epoch 1:   0%|          | 2/792 [00:00<03:00,  4.37it/s]"
     ]
    },
    {
     "name": "stdout",
     "output_type": "stream",
     "text": [
      "⚠️ Error loading image at /Users/Vivian/Documents/CONCH/Folds/Fold 1/train/SOB_M_DC-14-13412-200-021.png: not a PNG file\n"
     ]
    },
    {
     "name": "stderr",
     "output_type": "stream",
     "text": [
      "Fold 5 - Epoch 1: 100%|██████████| 792/792 [02:49<00:00,  4.67it/s]\n"
     ]
    },
    {
     "name": "stdout",
     "output_type": "stream",
     "text": [
      "Epoch 1: Train Loss = 113.3011, Train Acc = 0.9559\n",
      "✅ Model saved at epoch 1 with train acc: 0.9559\n"
     ]
    },
    {
     "name": "stderr",
     "output_type": "stream",
     "text": [
      "Fold 5 - Epoch 2:  47%|████▋     | 375/792 [01:20<01:28,  4.69it/s]"
     ]
    },
    {
     "name": "stdout",
     "output_type": "stream",
     "text": [
      "⚠️ Error loading image at /Users/Vivian/Documents/CONCH/Folds/Fold 1/train/SOB_M_DC-14-13412-200-021.png: not a PNG file\n"
     ]
    },
    {
     "name": "stderr",
     "output_type": "stream",
     "text": [
      "Fold 5 - Epoch 2: 100%|██████████| 792/792 [02:48<00:00,  4.69it/s]\n"
     ]
    },
    {
     "name": "stdout",
     "output_type": "stream",
     "text": [
      "Epoch 2: Train Loss = 32.8871, Train Acc = 0.9750\n",
      "✅ Model saved at epoch 2 with train acc: 0.9750\n"
     ]
    },
    {
     "name": "stderr",
     "output_type": "stream",
     "text": [
      "Fold 5 - Epoch 3:  26%|██▌       | 207/792 [00:44<02:05,  4.68it/s]"
     ]
    },
    {
     "name": "stdout",
     "output_type": "stream",
     "text": [
      "⚠️ Error loading image at /Users/Vivian/Documents/CONCH/Folds/Fold 1/train/SOB_M_DC-14-13412-200-021.png: not a PNG file\n"
     ]
    },
    {
     "name": "stderr",
     "output_type": "stream",
     "text": [
      "Fold 5 - Epoch 3: 100%|██████████| 792/792 [02:49<00:00,  4.67it/s]\n"
     ]
    },
    {
     "name": "stdout",
     "output_type": "stream",
     "text": [
      "Epoch 3: Train Loss = 24.4406, Train Acc = 0.9809\n",
      "✅ Model saved at epoch 3 with train acc: 0.9809\n"
     ]
    },
    {
     "name": "stderr",
     "output_type": "stream",
     "text": [
      "Fold 5 - Epoch 4:  34%|███▍      | 270/792 [00:57<01:51,  4.67it/s]"
     ]
    },
    {
     "name": "stdout",
     "output_type": "stream",
     "text": [
      "⚠️ Error loading image at /Users/Vivian/Documents/CONCH/Folds/Fold 1/train/SOB_M_DC-14-13412-200-021.png: not a PNG file\n"
     ]
    },
    {
     "name": "stderr",
     "output_type": "stream",
     "text": [
      "Fold 5 - Epoch 4: 100%|██████████| 792/792 [02:48<00:00,  4.71it/s]\n"
     ]
    },
    {
     "name": "stdout",
     "output_type": "stream",
     "text": [
      "Epoch 4: Train Loss = 24.6802, Train Acc = 0.9791\n",
      "No improvement for 1 epoch(s)\n"
     ]
    },
    {
     "name": "stderr",
     "output_type": "stream",
     "text": [
      "Fold 5 - Epoch 5:  89%|████████▊ | 701/792 [02:29<00:19,  4.70it/s]"
     ]
    },
    {
     "name": "stdout",
     "output_type": "stream",
     "text": [
      "⚠️ Error loading image at /Users/Vivian/Documents/CONCH/Folds/Fold 1/train/SOB_M_DC-14-13412-200-021.png: not a PNG file\n"
     ]
    },
    {
     "name": "stderr",
     "output_type": "stream",
     "text": [
      "Fold 5 - Epoch 5: 100%|██████████| 792/792 [02:48<00:00,  4.70it/s]\n"
     ]
    },
    {
     "name": "stdout",
     "output_type": "stream",
     "text": [
      "Epoch 5: Train Loss = 23.7792, Train Acc = 0.9815\n",
      "✅ Model saved at epoch 5 with train acc: 0.9815\n"
     ]
    },
    {
     "name": "stderr",
     "output_type": "stream",
     "text": [
      "C:\\Users\\Vivian\\AppData\\Local\\Temp\\ipykernel_27992\\3022664669.py:85: FutureWarning: You are using `torch.load` with `weights_only=False` (the current default value), which uses the default pickle module implicitly. It is possible to construct malicious pickle data which will execute arbitrary code during unpickling (See https://github.com/pytorch/pytorch/blob/main/SECURITY.md#untrusted-models for more details). In a future release, the default value for `weights_only` will be flipped to `True`. This limits the functions that could be executed during unpickling. Arbitrary objects will no longer be allowed to be loaded via this mode unless they are explicitly allowlisted by the user via `torch.serialization.add_safe_globals`. We recommend you start setting `weights_only=True` for any use case where you don't have full control of the loaded file. Please open an issue on GitHub for any issues related to this experimental feature.\n",
      "  model.load_state_dict(torch.load(model_path))\n",
      "Fold 5 [Test]: 100%|██████████| 198/198 [00:40<00:00,  4.94it/s]"
     ]
    },
    {
     "name": "stdout",
     "output_type": "stream",
     "text": [
      "✅ All folds complete. Results saved.\n",
      "\n",
      "📊 Cross-Validation Averages ± Std:\n",
      "Best Train Accuracy: 0.9816 ± 0.0062\n",
      "Test Accuracy: 0.8315 ± 0.1607\n",
      "Test Precision: 0.8668 ± 0.1370\n",
      "Test Recall: 0.8315 ± 0.1607\n",
      "Test F1: 0.8341 ± 0.1580\n",
      "\n",
      "📊 Per-Class F1 Scores:\n",
      "Class 0: 0.6431 ± 0.3883\n",
      "Class 1: 0.8050 ± 0.1639\n",
      "Class 2: 0.4564 ± 0.4586\n",
      "Class 3: 0.8414 ± 0.1371\n",
      "Class 4: 0.8801 ± 0.1051\n",
      "Class 5: 0.5644 ± 0.4418\n",
      "Class 6: 0.5326 ± 0.3584\n",
      "Class 7: 0.5547 ± 0.3710\n",
      "📁 Appended summary rows to: C:\\Users\\Vivian\\Documents\\CONCH\\breakhis_scripts\\CONCH_multiclass\\CONCH_fullft_results2.csv\n"
     ]
    },
    {
     "name": "stderr",
     "output_type": "stream",
     "text": [
      "\n",
      "c:\\Users\\Vivian\\anaconda3\\envs\\conch\\lib\\site-packages\\sklearn\\metrics\\_classification.py:1531: UndefinedMetricWarning: Recall is ill-defined and being set to 0.0 in labels with no true samples. Use `zero_division` parameter to control this behavior.\n",
      "  _warn_prf(average, modifier, f\"{metric.capitalize()} is\", len(result))\n",
      "c:\\Users\\Vivian\\anaconda3\\envs\\conch\\lib\\site-packages\\sklearn\\metrics\\_classification.py:1531: UndefinedMetricWarning: Recall is ill-defined and being set to 0.0 in labels with no true samples. Use `zero_division` parameter to control this behavior.\n",
      "  _warn_prf(average, modifier, f\"{metric.capitalize()} is\", len(result))\n",
      "c:\\Users\\Vivian\\anaconda3\\envs\\conch\\lib\\site-packages\\sklearn\\metrics\\_classification.py:1531: UndefinedMetricWarning: Recall is ill-defined and being set to 0.0 in labels with no true samples. Use `zero_division` parameter to control this behavior.\n",
      "  _warn_prf(average, modifier, f\"{metric.capitalize()} is\", len(result))\n",
      "c:\\Users\\Vivian\\anaconda3\\envs\\conch\\lib\\site-packages\\sklearn\\metrics\\_classification.py:1531: UndefinedMetricWarning: Recall is ill-defined and being set to 0.0 in labels with no true samples. Use `zero_division` parameter to control this behavior.\n",
      "  _warn_prf(average, modifier, f\"{metric.capitalize()} is\", len(result))\n"
     ]
    }
   ],
   "source": [
    "from functools import partial\n",
    "# metadata_path = r\"C:\\Users\\Vivian\\Documents\\CONCH\\breakhis_scripts\\metadata_folds.csv\"\n",
    "model_save_dir = r\"C:\\Users\\Vivian\\Documents\\CONCH\\_finetune_weights_CONCH\\breakhis_multiclass2\"\n",
    "results_csv_dir = r\"C:\\Users\\Vivian\\Documents\\CONCH\\breakhis_scripts\\CONCH_multiclass\"\n",
    "results_csv_path = os.path.join(results_csv_dir, \"CONCH_fullft_results2.csv\")\n",
    "\n",
    "run_k_fold_finetuning(\n",
    "    model=model,  # your fine-tuning model\n",
    "    k_folds=5,\n",
    "    train_loader_fn=make_train_loader,\n",
    "    test_loader_fn=make_test_loader,\n",
    "    model_save_dir=model_save_dir,\n",
    "    results_csv_path=results_csv_path,\n",
    "    device='cuda',\n",
    "    lr=2e-5,\n",
    "    num_epochs=5,\n",
    "    patience=5,\n",
    "    is_binary=False\n",
    ")\n"
   ]
  },
  {
   "cell_type": "code",
   "execution_count": 8,
   "metadata": {},
   "outputs": [
    {
     "name": "stderr",
     "output_type": "stream",
     "text": [
      "C:\\Users\\Vivian\\AppData\\Local\\Temp\\ipykernel_29020\\1036823790.py:38: FutureWarning: `torch.cuda.amp.GradScaler(args...)` is deprecated. Please use `torch.amp.GradScaler('cuda', args...)` instead.\n",
      "  scaler = torch.cuda.amp.GradScaler()\n"
     ]
    },
    {
     "name": "stdout",
     "output_type": "stream",
     "text": [
      "\n",
      "=== Fold 1/5 ===\n"
     ]
    },
    {
     "name": "stderr",
     "output_type": "stream",
     "text": [
      "Fold 1 - Epoch 1:   0%|          | 0/771 [00:00<?, ?it/s]C:\\Users\\Vivian\\AppData\\Local\\Temp\\ipykernel_29020\\1036823790.py:53: FutureWarning: `torch.cuda.amp.autocast(args...)` is deprecated. Please use `torch.amp.autocast('cuda', args...)` instead.\n",
      "  with torch.cuda.amp.autocast():\n",
      "Fold 1 - Epoch 1: 100%|██████████| 771/771 [03:32<00:00,  3.63it/s]\n"
     ]
    },
    {
     "name": "stdout",
     "output_type": "stream",
     "text": [
      "Epoch 1: Train Loss = 469.6805, Train Acc = 0.7911\n",
      "✅ Model saved at epoch 1 with train acc: 0.7911\n"
     ]
    },
    {
     "name": "stderr",
     "output_type": "stream",
     "text": [
      "Fold 1 - Epoch 2: 100%|██████████| 771/771 [03:31<00:00,  3.64it/s]\n"
     ]
    },
    {
     "name": "stdout",
     "output_type": "stream",
     "text": [
      "Epoch 2: Train Loss = 68.4402, Train Acc = 0.9708\n",
      "✅ Model saved at epoch 2 with train acc: 0.9708\n"
     ]
    },
    {
     "name": "stderr",
     "output_type": "stream",
     "text": [
      "Fold 1 - Epoch 3: 100%|██████████| 771/771 [03:32<00:00,  3.63it/s]\n"
     ]
    },
    {
     "name": "stdout",
     "output_type": "stream",
     "text": [
      "Epoch 3: Train Loss = 16.7511, Train Acc = 0.9937\n",
      "✅ Model saved at epoch 3 with train acc: 0.9937\n"
     ]
    },
    {
     "name": "stderr",
     "output_type": "stream",
     "text": [
      "Fold 1 - Epoch 4: 100%|██████████| 771/771 [03:32<00:00,  3.63it/s]\n"
     ]
    },
    {
     "name": "stdout",
     "output_type": "stream",
     "text": [
      "Epoch 4: Train Loss = 48.7669, Train Acc = 0.9799\n",
      "No improvement for 1 epoch(s)\n"
     ]
    },
    {
     "name": "stderr",
     "output_type": "stream",
     "text": [
      "Fold 1 - Epoch 5: 100%|██████████| 771/771 [03:32<00:00,  3.63it/s]\n",
      "C:\\Users\\Vivian\\AppData\\Local\\Temp\\ipykernel_29020\\1036823790.py:84: FutureWarning: You are using `torch.load` with `weights_only=False` (the current default value), which uses the default pickle module implicitly. It is possible to construct malicious pickle data which will execute arbitrary code during unpickling (See https://github.com/pytorch/pytorch/blob/main/SECURITY.md#untrusted-models for more details). In a future release, the default value for `weights_only` will be flipped to `True`. This limits the functions that could be executed during unpickling. Arbitrary objects will no longer be allowed to be loaded via this mode unless they are explicitly allowlisted by the user via `torch.serialization.add_safe_globals`. We recommend you start setting `weights_only=True` for any use case where you don't have full control of the loaded file. Please open an issue on GitHub for any issues related to this experimental feature.\n",
      "  model.load_state_dict(torch.load(model_path))\n"
     ]
    },
    {
     "name": "stdout",
     "output_type": "stream",
     "text": [
      "Epoch 5: Train Loss = 34.2235, Train Acc = 0.9872\n",
      "No improvement for 2 epoch(s)\n"
     ]
    },
    {
     "name": "stderr",
     "output_type": "stream",
     "text": [
      "Fold 1 [Test]:  28%|██▊       | 60/218 [00:12<00:32,  4.80it/s]"
     ]
    },
    {
     "name": "stdout",
     "output_type": "stream",
     "text": [
      "⚠️ Error loading image at /Users/Vivian/Documents/CONCH/Folds/Fold 1/train/SOB_M_DC-14-13412-200-021.png: not a PNG file\n"
     ]
    },
    {
     "name": "stderr",
     "output_type": "stream",
     "text": [
      "Fold 1 [Test]: 100%|██████████| 218/218 [00:46<00:00,  4.71it/s]\n",
      "c:\\Users\\Vivian\\anaconda3\\envs\\conch\\lib\\site-packages\\sklearn\\metrics\\_classification.py:1531: UndefinedMetricWarning: Recall is ill-defined and being set to 0.0 in labels with no true samples. Use `zero_division` parameter to control this behavior.\n",
      "  _warn_prf(average, modifier, f\"{metric.capitalize()} is\", len(result))\n",
      "c:\\Users\\Vivian\\anaconda3\\envs\\conch\\lib\\site-packages\\sklearn\\metrics\\_classification.py:1531: UndefinedMetricWarning: Recall is ill-defined and being set to 0.0 in labels with no true samples. Use `zero_division` parameter to control this behavior.\n",
      "  _warn_prf(average, modifier, f\"{metric.capitalize()} is\", len(result))\n",
      "c:\\Users\\Vivian\\anaconda3\\envs\\conch\\lib\\site-packages\\sklearn\\metrics\\_classification.py:1531: UndefinedMetricWarning: Recall is ill-defined and being set to 0.0 in labels with no true samples. Use `zero_division` parameter to control this behavior.\n",
      "  _warn_prf(average, modifier, f\"{metric.capitalize()} is\", len(result))\n",
      "c:\\Users\\Vivian\\anaconda3\\envs\\conch\\lib\\site-packages\\sklearn\\metrics\\_classification.py:1531: UndefinedMetricWarning: Recall is ill-defined and being set to 0.0 in labels with no true samples. Use `zero_division` parameter to control this behavior.\n",
      "  _warn_prf(average, modifier, f\"{metric.capitalize()} is\", len(result))\n",
      "C:\\Users\\Vivian\\AppData\\Local\\Temp\\ipykernel_29020\\1036823790.py:38: FutureWarning: `torch.cuda.amp.GradScaler(args...)` is deprecated. Please use `torch.amp.GradScaler('cuda', args...)` instead.\n",
      "  scaler = torch.cuda.amp.GradScaler()\n"
     ]
    },
    {
     "name": "stdout",
     "output_type": "stream",
     "text": [
      "\n",
      "=== Fold 2/5 ===\n"
     ]
    },
    {
     "name": "stderr",
     "output_type": "stream",
     "text": [
      "Fold 2 - Epoch 1:   0%|          | 0/773 [00:00<?, ?it/s]C:\\Users\\Vivian\\AppData\\Local\\Temp\\ipykernel_29020\\1036823790.py:53: FutureWarning: `torch.cuda.amp.autocast(args...)` is deprecated. Please use `torch.amp.autocast('cuda', args...)` instead.\n",
      "  with torch.cuda.amp.autocast():\n",
      "Fold 2 - Epoch 1:  23%|██▎       | 181/773 [00:49<02:42,  3.64it/s]"
     ]
    },
    {
     "name": "stdout",
     "output_type": "stream",
     "text": [
      "⚠️ Error loading image at /Users/Vivian/Documents/CONCH/Folds/Fold 1/train/SOB_M_DC-14-13412-200-021.png: not a PNG file\n"
     ]
    },
    {
     "name": "stderr",
     "output_type": "stream",
     "text": [
      "Fold 2 - Epoch 1: 100%|██████████| 773/773 [03:32<00:00,  3.63it/s]\n"
     ]
    },
    {
     "name": "stdout",
     "output_type": "stream",
     "text": [
      "Epoch 1: Train Loss = 174.7531, Train Acc = 0.9225\n",
      "✅ Model saved at epoch 1 with train acc: 0.9225\n"
     ]
    },
    {
     "name": "stderr",
     "output_type": "stream",
     "text": [
      "Fold 2 - Epoch 2:  50%|█████     | 388/773 [01:46<01:44,  3.67it/s]"
     ]
    },
    {
     "name": "stdout",
     "output_type": "stream",
     "text": [
      "⚠️ Error loading image at /Users/Vivian/Documents/CONCH/Folds/Fold 1/train/SOB_M_DC-14-13412-200-021.png: not a PNG file\n"
     ]
    },
    {
     "name": "stderr",
     "output_type": "stream",
     "text": [
      "Fold 2 - Epoch 2: 100%|██████████| 773/773 [03:32<00:00,  3.63it/s]\n"
     ]
    },
    {
     "name": "stdout",
     "output_type": "stream",
     "text": [
      "Epoch 2: Train Loss = 59.9694, Train Acc = 0.9652\n",
      "✅ Model saved at epoch 2 with train acc: 0.9652\n"
     ]
    },
    {
     "name": "stderr",
     "output_type": "stream",
     "text": [
      "Fold 2 - Epoch 3:  97%|█████████▋| 748/773 [03:24<00:06,  3.70it/s]"
     ]
    },
    {
     "name": "stdout",
     "output_type": "stream",
     "text": [
      "⚠️ Error loading image at /Users/Vivian/Documents/CONCH/Folds/Fold 1/train/SOB_M_DC-14-13412-200-021.png: not a PNG file\n"
     ]
    },
    {
     "name": "stderr",
     "output_type": "stream",
     "text": [
      "Fold 2 - Epoch 3: 100%|██████████| 773/773 [03:30<00:00,  3.66it/s]\n"
     ]
    },
    {
     "name": "stdout",
     "output_type": "stream",
     "text": [
      "Epoch 3: Train Loss = 76.1783, Train Acc = 0.9563\n",
      "No improvement for 1 epoch(s)\n"
     ]
    },
    {
     "name": "stderr",
     "output_type": "stream",
     "text": [
      "Fold 2 - Epoch 4:  58%|█████▊    | 451/773 [02:02<01:27,  3.67it/s]"
     ]
    },
    {
     "name": "stdout",
     "output_type": "stream",
     "text": [
      "⚠️ Error loading image at /Users/Vivian/Documents/CONCH/Folds/Fold 1/train/SOB_M_DC-14-13412-200-021.png: not a PNG file\n"
     ]
    },
    {
     "name": "stderr",
     "output_type": "stream",
     "text": [
      "Fold 2 - Epoch 4: 100%|██████████| 773/773 [03:31<00:00,  3.66it/s]\n"
     ]
    },
    {
     "name": "stdout",
     "output_type": "stream",
     "text": [
      "Epoch 4: Train Loss = 46.0206, Train Acc = 0.9704\n",
      "✅ Model saved at epoch 4 with train acc: 0.9704\n"
     ]
    },
    {
     "name": "stderr",
     "output_type": "stream",
     "text": [
      "Fold 2 - Epoch 5:  76%|███████▌  | 585/773 [02:38<00:51,  3.65it/s]"
     ]
    },
    {
     "name": "stdout",
     "output_type": "stream",
     "text": [
      "⚠️ Error loading image at /Users/Vivian/Documents/CONCH/Folds/Fold 1/train/SOB_M_DC-14-13412-200-021.png: not a PNG file\n"
     ]
    },
    {
     "name": "stderr",
     "output_type": "stream",
     "text": [
      "Fold 2 - Epoch 5: 100%|██████████| 773/773 [03:30<00:00,  3.67it/s]\n"
     ]
    },
    {
     "name": "stdout",
     "output_type": "stream",
     "text": [
      "Epoch 5: Train Loss = 32.0262, Train Acc = 0.9764\n",
      "✅ Model saved at epoch 5 with train acc: 0.9764\n"
     ]
    },
    {
     "name": "stderr",
     "output_type": "stream",
     "text": [
      "C:\\Users\\Vivian\\AppData\\Local\\Temp\\ipykernel_29020\\1036823790.py:84: FutureWarning: You are using `torch.load` with `weights_only=False` (the current default value), which uses the default pickle module implicitly. It is possible to construct malicious pickle data which will execute arbitrary code during unpickling (See https://github.com/pytorch/pytorch/blob/main/SECURITY.md#untrusted-models for more details). In a future release, the default value for `weights_only` will be flipped to `True`. This limits the functions that could be executed during unpickling. Arbitrary objects will no longer be allowed to be loaded via this mode unless they are explicitly allowlisted by the user via `torch.serialization.add_safe_globals`. We recommend you start setting `weights_only=True` for any use case where you don't have full control of the loaded file. Please open an issue on GitHub for any issues related to this experimental feature.\n",
      "  model.load_state_dict(torch.load(model_path))\n",
      "Fold 2 [Test]: 100%|██████████| 216/216 [00:45<00:00,  4.77it/s]\n",
      "C:\\Users\\Vivian\\AppData\\Local\\Temp\\ipykernel_29020\\1036823790.py:38: FutureWarning: `torch.cuda.amp.GradScaler(args...)` is deprecated. Please use `torch.amp.GradScaler('cuda', args...)` instead.\n",
      "  scaler = torch.cuda.amp.GradScaler()\n"
     ]
    },
    {
     "name": "stdout",
     "output_type": "stream",
     "text": [
      "\n",
      "=== Fold 3/5 ===\n"
     ]
    },
    {
     "name": "stderr",
     "output_type": "stream",
     "text": [
      "Fold 3 - Epoch 1:   0%|          | 0/810 [00:00<?, ?it/s]C:\\Users\\Vivian\\AppData\\Local\\Temp\\ipykernel_29020\\1036823790.py:53: FutureWarning: `torch.cuda.amp.autocast(args...)` is deprecated. Please use `torch.amp.autocast('cuda', args...)` instead.\n",
      "  with torch.cuda.amp.autocast():\n",
      "Fold 3 - Epoch 1:  30%|███       | 246/810 [01:07<02:36,  3.61it/s]"
     ]
    },
    {
     "name": "stdout",
     "output_type": "stream",
     "text": [
      "⚠️ Error loading image at /Users/Vivian/Documents/CONCH/Folds/Fold 1/train/SOB_M_DC-14-13412-200-021.png: not a PNG file\n"
     ]
    },
    {
     "name": "stderr",
     "output_type": "stream",
     "text": [
      "Fold 3 - Epoch 1: 100%|██████████| 810/810 [03:43<00:00,  3.63it/s]\n"
     ]
    },
    {
     "name": "stdout",
     "output_type": "stream",
     "text": [
      "Epoch 1: Train Loss = 144.6986, Train Acc = 0.9393\n",
      "✅ Model saved at epoch 1 with train acc: 0.9393\n"
     ]
    },
    {
     "name": "stderr",
     "output_type": "stream",
     "text": [
      "Fold 3 - Epoch 2:  76%|███████▌  | 613/810 [02:49<00:54,  3.64it/s]"
     ]
    },
    {
     "name": "stdout",
     "output_type": "stream",
     "text": [
      "⚠️ Error loading image at /Users/Vivian/Documents/CONCH/Folds/Fold 1/train/SOB_M_DC-14-13412-200-021.png: not a PNG file\n"
     ]
    },
    {
     "name": "stderr",
     "output_type": "stream",
     "text": [
      "Fold 3 - Epoch 2: 100%|██████████| 810/810 [03:44<00:00,  3.61it/s]\n"
     ]
    },
    {
     "name": "stdout",
     "output_type": "stream",
     "text": [
      "Epoch 2: Train Loss = 69.7301, Train Acc = 0.9628\n",
      "✅ Model saved at epoch 2 with train acc: 0.9628\n"
     ]
    },
    {
     "name": "stderr",
     "output_type": "stream",
     "text": [
      "Fold 3 - Epoch 3:   6%|▌         | 49/810 [00:13<03:28,  3.65it/s]"
     ]
    },
    {
     "name": "stdout",
     "output_type": "stream",
     "text": [
      "⚠️ Error loading image at /Users/Vivian/Documents/CONCH/Folds/Fold 1/train/SOB_M_DC-14-13412-200-021.png: not a PNG file\n"
     ]
    },
    {
     "name": "stderr",
     "output_type": "stream",
     "text": [
      "Fold 3 - Epoch 3: 100%|██████████| 810/810 [03:43<00:00,  3.63it/s]\n"
     ]
    },
    {
     "name": "stdout",
     "output_type": "stream",
     "text": [
      "Epoch 3: Train Loss = 55.5873, Train Acc = 0.9679\n",
      "✅ Model saved at epoch 3 with train acc: 0.9679\n"
     ]
    },
    {
     "name": "stderr",
     "output_type": "stream",
     "text": [
      "Fold 3 - Epoch 4:  77%|███████▋  | 626/810 [02:53<00:50,  3.68it/s]"
     ]
    },
    {
     "name": "stdout",
     "output_type": "stream",
     "text": [
      "⚠️ Error loading image at /Users/Vivian/Documents/CONCH/Folds/Fold 1/train/SOB_M_DC-14-13412-200-021.png: not a PNG file\n"
     ]
    },
    {
     "name": "stderr",
     "output_type": "stream",
     "text": [
      "Fold 3 - Epoch 4: 100%|██████████| 810/810 [03:43<00:00,  3.63it/s]\n"
     ]
    },
    {
     "name": "stdout",
     "output_type": "stream",
     "text": [
      "Epoch 4: Train Loss = 32.8321, Train Acc = 0.9784\n",
      "✅ Model saved at epoch 4 with train acc: 0.9784\n"
     ]
    },
    {
     "name": "stderr",
     "output_type": "stream",
     "text": [
      "Fold 3 - Epoch 5:  95%|█████████▍| 767/810 [03:28<00:11,  3.68it/s]"
     ]
    },
    {
     "name": "stdout",
     "output_type": "stream",
     "text": [
      "⚠️ Error loading image at /Users/Vivian/Documents/CONCH/Folds/Fold 1/train/SOB_M_DC-14-13412-200-021.png: not a PNG file\n"
     ]
    },
    {
     "name": "stderr",
     "output_type": "stream",
     "text": [
      "Fold 3 - Epoch 5: 100%|██████████| 810/810 [03:39<00:00,  3.68it/s]\n"
     ]
    },
    {
     "name": "stdout",
     "output_type": "stream",
     "text": [
      "Epoch 5: Train Loss = 23.7037, Train Acc = 0.9825\n",
      "✅ Model saved at epoch 5 with train acc: 0.9825\n"
     ]
    },
    {
     "name": "stderr",
     "output_type": "stream",
     "text": [
      "C:\\Users\\Vivian\\AppData\\Local\\Temp\\ipykernel_29020\\1036823790.py:84: FutureWarning: You are using `torch.load` with `weights_only=False` (the current default value), which uses the default pickle module implicitly. It is possible to construct malicious pickle data which will execute arbitrary code during unpickling (See https://github.com/pytorch/pytorch/blob/main/SECURITY.md#untrusted-models for more details). In a future release, the default value for `weights_only` will be flipped to `True`. This limits the functions that could be executed during unpickling. Arbitrary objects will no longer be allowed to be loaded via this mode unless they are explicitly allowlisted by the user via `torch.serialization.add_safe_globals`. We recommend you start setting `weights_only=True` for any use case where you don't have full control of the loaded file. Please open an issue on GitHub for any issues related to this experimental feature.\n",
      "  model.load_state_dict(torch.load(model_path))\n",
      "Fold 3 [Test]: 100%|██████████| 180/180 [00:37<00:00,  4.78it/s]\n",
      "c:\\Users\\Vivian\\anaconda3\\envs\\conch\\lib\\site-packages\\sklearn\\metrics\\_classification.py:1531: UndefinedMetricWarning: Recall is ill-defined and being set to 0.0 in labels with no true samples. Use `zero_division` parameter to control this behavior.\n",
      "  _warn_prf(average, modifier, f\"{metric.capitalize()} is\", len(result))\n",
      "c:\\Users\\Vivian\\anaconda3\\envs\\conch\\lib\\site-packages\\sklearn\\metrics\\_classification.py:1531: UndefinedMetricWarning: Recall is ill-defined and being set to 0.0 in labels with no true samples. Use `zero_division` parameter to control this behavior.\n",
      "  _warn_prf(average, modifier, f\"{metric.capitalize()} is\", len(result))\n",
      "c:\\Users\\Vivian\\anaconda3\\envs\\conch\\lib\\site-packages\\sklearn\\metrics\\_classification.py:1531: UndefinedMetricWarning: Recall is ill-defined and being set to 0.0 in labels with no true samples. Use `zero_division` parameter to control this behavior.\n",
      "  _warn_prf(average, modifier, f\"{metric.capitalize()} is\", len(result))\n",
      "c:\\Users\\Vivian\\anaconda3\\envs\\conch\\lib\\site-packages\\sklearn\\metrics\\_classification.py:1531: UndefinedMetricWarning: Recall is ill-defined and being set to 0.0 in labels with no true samples. Use `zero_division` parameter to control this behavior.\n",
      "  _warn_prf(average, modifier, f\"{metric.capitalize()} is\", len(result))\n",
      "C:\\Users\\Vivian\\AppData\\Local\\Temp\\ipykernel_29020\\1036823790.py:38: FutureWarning: `torch.cuda.amp.GradScaler(args...)` is deprecated. Please use `torch.amp.GradScaler('cuda', args...)` instead.\n",
      "  scaler = torch.cuda.amp.GradScaler()\n"
     ]
    },
    {
     "name": "stdout",
     "output_type": "stream",
     "text": [
      "\n",
      "=== Fold 4/5 ===\n"
     ]
    },
    {
     "name": "stderr",
     "output_type": "stream",
     "text": [
      "Fold 4 - Epoch 1:   0%|          | 0/811 [00:00<?, ?it/s]C:\\Users\\Vivian\\AppData\\Local\\Temp\\ipykernel_29020\\1036823790.py:53: FutureWarning: `torch.cuda.amp.autocast(args...)` is deprecated. Please use `torch.amp.autocast('cuda', args...)` instead.\n",
      "  with torch.cuda.amp.autocast():\n",
      "Fold 4 - Epoch 1:  38%|███▊      | 309/811 [01:23<02:16,  3.68it/s]"
     ]
    },
    {
     "name": "stdout",
     "output_type": "stream",
     "text": [
      "⚠️ Error loading image at /Users/Vivian/Documents/CONCH/Folds/Fold 1/train/SOB_M_DC-14-13412-200-021.png: not a PNG file\n"
     ]
    },
    {
     "name": "stderr",
     "output_type": "stream",
     "text": [
      "Fold 4 - Epoch 1: 100%|██████████| 811/811 [03:39<00:00,  3.69it/s]\n"
     ]
    },
    {
     "name": "stdout",
     "output_type": "stream",
     "text": [
      "Epoch 1: Train Loss = 95.7342, Train Acc = 0.9567\n",
      "✅ Model saved at epoch 1 with train acc: 0.9567\n"
     ]
    },
    {
     "name": "stderr",
     "output_type": "stream",
     "text": [
      "Fold 4 - Epoch 2:  43%|████▎     | 347/811 [01:34<02:06,  3.67it/s]"
     ]
    },
    {
     "name": "stdout",
     "output_type": "stream",
     "text": [
      "⚠️ Error loading image at /Users/Vivian/Documents/CONCH/Folds/Fold 1/train/SOB_M_DC-14-13412-200-021.png: not a PNG file\n"
     ]
    },
    {
     "name": "stderr",
     "output_type": "stream",
     "text": [
      "Fold 4 - Epoch 2: 100%|██████████| 811/811 [03:40<00:00,  3.67it/s]\n"
     ]
    },
    {
     "name": "stdout",
     "output_type": "stream",
     "text": [
      "Epoch 2: Train Loss = 65.6583, Train Acc = 0.9619\n",
      "✅ Model saved at epoch 2 with train acc: 0.9619\n"
     ]
    },
    {
     "name": "stderr",
     "output_type": "stream",
     "text": [
      "Fold 4 - Epoch 3:  88%|████████▊ | 716/811 [03:14<00:26,  3.64it/s]"
     ]
    },
    {
     "name": "stdout",
     "output_type": "stream",
     "text": [
      "⚠️ Error loading image at /Users/Vivian/Documents/CONCH/Folds/Fold 1/train/SOB_M_DC-14-13412-200-021.png: not a PNG file\n"
     ]
    },
    {
     "name": "stderr",
     "output_type": "stream",
     "text": [
      "Fold 4 - Epoch 3: 100%|██████████| 811/811 [03:40<00:00,  3.68it/s]\n"
     ]
    },
    {
     "name": "stdout",
     "output_type": "stream",
     "text": [
      "Epoch 3: Train Loss = 48.4087, Train Acc = 0.9695\n",
      "✅ Model saved at epoch 3 with train acc: 0.9695\n"
     ]
    },
    {
     "name": "stderr",
     "output_type": "stream",
     "text": [
      "Fold 4 - Epoch 4:  23%|██▎       | 187/811 [00:51<02:51,  3.64it/s]"
     ]
    },
    {
     "name": "stdout",
     "output_type": "stream",
     "text": [
      "⚠️ Error loading image at /Users/Vivian/Documents/CONCH/Folds/Fold 1/train/SOB_M_DC-14-13412-200-021.png: not a PNG file\n"
     ]
    },
    {
     "name": "stderr",
     "output_type": "stream",
     "text": [
      "Fold 4 - Epoch 4: 100%|██████████| 811/811 [03:40<00:00,  3.68it/s]\n"
     ]
    },
    {
     "name": "stdout",
     "output_type": "stream",
     "text": [
      "Epoch 4: Train Loss = 38.4267, Train Acc = 0.9759\n",
      "✅ Model saved at epoch 4 with train acc: 0.9759\n"
     ]
    },
    {
     "name": "stderr",
     "output_type": "stream",
     "text": [
      "Fold 4 - Epoch 5:  90%|████████▉ | 729/811 [03:18<00:22,  3.65it/s]"
     ]
    },
    {
     "name": "stdout",
     "output_type": "stream",
     "text": [
      "⚠️ Error loading image at /Users/Vivian/Documents/CONCH/Folds/Fold 1/train/SOB_M_DC-14-13412-200-021.png: not a PNG file\n"
     ]
    },
    {
     "name": "stderr",
     "output_type": "stream",
     "text": [
      "Fold 4 - Epoch 5: 100%|██████████| 811/811 [03:40<00:00,  3.68it/s]\n",
      "C:\\Users\\Vivian\\AppData\\Local\\Temp\\ipykernel_29020\\1036823790.py:84: FutureWarning: You are using `torch.load` with `weights_only=False` (the current default value), which uses the default pickle module implicitly. It is possible to construct malicious pickle data which will execute arbitrary code during unpickling (See https://github.com/pytorch/pytorch/blob/main/SECURITY.md#untrusted-models for more details). In a future release, the default value for `weights_only` will be flipped to `True`. This limits the functions that could be executed during unpickling. Arbitrary objects will no longer be allowed to be loaded via this mode unless they are explicitly allowlisted by the user via `torch.serialization.add_safe_globals`. We recommend you start setting `weights_only=True` for any use case where you don't have full control of the loaded file. Please open an issue on GitHub for any issues related to this experimental feature.\n",
      "  model.load_state_dict(torch.load(model_path))\n"
     ]
    },
    {
     "name": "stdout",
     "output_type": "stream",
     "text": [
      "Epoch 5: Train Loss = 55.8462, Train Acc = 0.9684\n",
      "No improvement for 1 epoch(s)\n"
     ]
    },
    {
     "name": "stderr",
     "output_type": "stream",
     "text": [
      "Fold 4 [Test]: 100%|██████████| 179/179 [00:37<00:00,  4.76it/s]\n",
      "c:\\Users\\Vivian\\anaconda3\\envs\\conch\\lib\\site-packages\\sklearn\\metrics\\_classification.py:1531: UndefinedMetricWarning: Recall is ill-defined and being set to 0.0 in labels with no true samples. Use `zero_division` parameter to control this behavior.\n",
      "  _warn_prf(average, modifier, f\"{metric.capitalize()} is\", len(result))\n",
      "c:\\Users\\Vivian\\anaconda3\\envs\\conch\\lib\\site-packages\\sklearn\\metrics\\_classification.py:1531: UndefinedMetricWarning: Recall is ill-defined and being set to 0.0 in labels with no true samples. Use `zero_division` parameter to control this behavior.\n",
      "  _warn_prf(average, modifier, f\"{metric.capitalize()} is\", len(result))\n",
      "c:\\Users\\Vivian\\anaconda3\\envs\\conch\\lib\\site-packages\\sklearn\\metrics\\_classification.py:1531: UndefinedMetricWarning: Recall is ill-defined and being set to 0.0 in labels with no true samples. Use `zero_division` parameter to control this behavior.\n",
      "  _warn_prf(average, modifier, f\"{metric.capitalize()} is\", len(result))\n",
      "c:\\Users\\Vivian\\anaconda3\\envs\\conch\\lib\\site-packages\\sklearn\\metrics\\_classification.py:1531: UndefinedMetricWarning: Recall is ill-defined and being set to 0.0 in labels with no true samples. Use `zero_division` parameter to control this behavior.\n",
      "  _warn_prf(average, modifier, f\"{metric.capitalize()} is\", len(result))\n",
      "C:\\Users\\Vivian\\AppData\\Local\\Temp\\ipykernel_29020\\1036823790.py:38: FutureWarning: `torch.cuda.amp.GradScaler(args...)` is deprecated. Please use `torch.amp.GradScaler('cuda', args...)` instead.\n",
      "  scaler = torch.cuda.amp.GradScaler()\n"
     ]
    },
    {
     "name": "stdout",
     "output_type": "stream",
     "text": [
      "\n",
      "=== Fold 5/5 ===\n"
     ]
    },
    {
     "name": "stderr",
     "output_type": "stream",
     "text": [
      "Fold 5 - Epoch 1:   0%|          | 0/792 [00:00<?, ?it/s]C:\\Users\\Vivian\\AppData\\Local\\Temp\\ipykernel_29020\\1036823790.py:53: FutureWarning: `torch.cuda.amp.autocast(args...)` is deprecated. Please use `torch.amp.autocast('cuda', args...)` instead.\n",
      "  with torch.cuda.amp.autocast():\n",
      "Fold 5 - Epoch 1:  24%|██▍       | 193/792 [00:52<02:39,  3.75it/s]"
     ]
    },
    {
     "name": "stdout",
     "output_type": "stream",
     "text": [
      "⚠️ Error loading image at /Users/Vivian/Documents/CONCH/Folds/Fold 1/train/SOB_M_DC-14-13412-200-021.png: not a PNG file\n"
     ]
    },
    {
     "name": "stderr",
     "output_type": "stream",
     "text": [
      "Fold 5 - Epoch 1: 100%|██████████| 792/792 [03:34<00:00,  3.68it/s]\n"
     ]
    },
    {
     "name": "stdout",
     "output_type": "stream",
     "text": [
      "Epoch 1: Train Loss = 99.4022, Train Acc = 0.9567\n",
      "✅ Model saved at epoch 1 with train acc: 0.9567\n"
     ]
    },
    {
     "name": "stderr",
     "output_type": "stream",
     "text": [
      "Fold 5 - Epoch 2:  70%|██████▉   | 552/792 [02:30<01:05,  3.67it/s]"
     ]
    },
    {
     "name": "stdout",
     "output_type": "stream",
     "text": [
      "⚠️ Error loading image at /Users/Vivian/Documents/CONCH/Folds/Fold 1/train/SOB_M_DC-14-13412-200-021.png: not a PNG file\n"
     ]
    },
    {
     "name": "stderr",
     "output_type": "stream",
     "text": [
      "Fold 5 - Epoch 2: 100%|██████████| 792/792 [03:36<00:00,  3.67it/s]\n"
     ]
    },
    {
     "name": "stdout",
     "output_type": "stream",
     "text": [
      "Epoch 2: Train Loss = 53.0141, Train Acc = 0.9698\n",
      "✅ Model saved at epoch 2 with train acc: 0.9698\n"
     ]
    },
    {
     "name": "stderr",
     "output_type": "stream",
     "text": [
      "Fold 5 - Epoch 3:  61%|██████    | 483/792 [02:11<01:24,  3.66it/s]"
     ]
    },
    {
     "name": "stdout",
     "output_type": "stream",
     "text": [
      "⚠️ Error loading image at /Users/Vivian/Documents/CONCH/Folds/Fold 1/train/SOB_M_DC-14-13412-200-021.png: not a PNG file\n"
     ]
    },
    {
     "name": "stderr",
     "output_type": "stream",
     "text": [
      "Fold 5 - Epoch 3: 100%|██████████| 792/792 [03:34<00:00,  3.69it/s]\n"
     ]
    },
    {
     "name": "stdout",
     "output_type": "stream",
     "text": [
      "Epoch 3: Train Loss = 46.7238, Train Acc = 0.9735\n",
      "✅ Model saved at epoch 3 with train acc: 0.9735\n"
     ]
    },
    {
     "name": "stderr",
     "output_type": "stream",
     "text": [
      "Fold 5 - Epoch 4:  60%|█████▉    | 473/792 [02:08<01:25,  3.71it/s]"
     ]
    },
    {
     "name": "stdout",
     "output_type": "stream",
     "text": [
      "⚠️ Error loading image at /Users/Vivian/Documents/CONCH/Folds/Fold 1/train/SOB_M_DC-14-13412-200-021.png: not a PNG file\n"
     ]
    },
    {
     "name": "stderr",
     "output_type": "stream",
     "text": [
      "Fold 5 - Epoch 4: 100%|██████████| 792/792 [03:34<00:00,  3.69it/s]\n"
     ]
    },
    {
     "name": "stdout",
     "output_type": "stream",
     "text": [
      "Epoch 4: Train Loss = 51.0169, Train Acc = 0.9703\n",
      "No improvement for 1 epoch(s)\n"
     ]
    },
    {
     "name": "stderr",
     "output_type": "stream",
     "text": [
      "Fold 5 - Epoch 5:  28%|██▊       | 221/792 [00:59<02:35,  3.68it/s]"
     ]
    },
    {
     "name": "stdout",
     "output_type": "stream",
     "text": [
      "⚠️ Error loading image at /Users/Vivian/Documents/CONCH/Folds/Fold 1/train/SOB_M_DC-14-13412-200-021.png: not a PNG file\n"
     ]
    },
    {
     "name": "stderr",
     "output_type": "stream",
     "text": [
      "Fold 5 - Epoch 5: 100%|██████████| 792/792 [03:34<00:00,  3.70it/s]\n",
      "C:\\Users\\Vivian\\AppData\\Local\\Temp\\ipykernel_29020\\1036823790.py:84: FutureWarning: You are using `torch.load` with `weights_only=False` (the current default value), which uses the default pickle module implicitly. It is possible to construct malicious pickle data which will execute arbitrary code during unpickling (See https://github.com/pytorch/pytorch/blob/main/SECURITY.md#untrusted-models for more details). In a future release, the default value for `weights_only` will be flipped to `True`. This limits the functions that could be executed during unpickling. Arbitrary objects will no longer be allowed to be loaded via this mode unless they are explicitly allowlisted by the user via `torch.serialization.add_safe_globals`. We recommend you start setting `weights_only=True` for any use case where you don't have full control of the loaded file. Please open an issue on GitHub for any issues related to this experimental feature.\n",
      "  model.load_state_dict(torch.load(model_path))\n"
     ]
    },
    {
     "name": "stdout",
     "output_type": "stream",
     "text": [
      "Epoch 5: Train Loss = 60.7324, Train Acc = 0.9670\n",
      "No improvement for 2 epoch(s)\n"
     ]
    },
    {
     "name": "stderr",
     "output_type": "stream",
     "text": [
      "Fold 5 [Test]: 100%|██████████| 198/198 [00:42<00:00,  4.70it/s]"
     ]
    },
    {
     "name": "stdout",
     "output_type": "stream",
     "text": [
      "✅ All folds complete. Results saved.\n",
      "\n",
      "📊 Cross-Validation Averages ± Std:\n",
      "Best Train Accuracy: 0.9804 ± 0.0081\n",
      "Test Accuracy: 0.7623 ± 0.1916\n",
      "Test Precision: 0.7736 ± 0.2145\n",
      "Test Recall: 0.7623 ± 0.1916\n",
      "Test F1: 0.7468 ± 0.2240\n",
      "\n",
      "📊 Per-Class F1 Scores:\n",
      "Class 0: 0.4039 ± 0.4235\n",
      "Class 1: 0.6606 ± 0.2303\n",
      "Class 2: 0.2205 ± 0.3408\n",
      "Class 3: 0.7522 ± 0.1716\n",
      "Class 4: 0.8443 ± 0.1180\n",
      "Class 5: 0.5160 ± 0.4326\n",
      "Class 6: 0.4224 ± 0.3769\n",
      "Class 7: 0.5010 ± 0.4112\n",
      "📁 Appended summary rows to: C:\\Users\\Vivian\\Documents\\CONCH\\breakhis_scripts\\UNI_multiclass\\UNI_fullft_results.csv\n"
     ]
    },
    {
     "name": "stderr",
     "output_type": "stream",
     "text": [
      "\n",
      "c:\\Users\\Vivian\\anaconda3\\envs\\conch\\lib\\site-packages\\sklearn\\metrics\\_classification.py:1531: UndefinedMetricWarning: Recall is ill-defined and being set to 0.0 in labels with no true samples. Use `zero_division` parameter to control this behavior.\n",
      "  _warn_prf(average, modifier, f\"{metric.capitalize()} is\", len(result))\n",
      "c:\\Users\\Vivian\\anaconda3\\envs\\conch\\lib\\site-packages\\sklearn\\metrics\\_classification.py:1531: UndefinedMetricWarning: Recall is ill-defined and being set to 0.0 in labels with no true samples. Use `zero_division` parameter to control this behavior.\n",
      "  _warn_prf(average, modifier, f\"{metric.capitalize()} is\", len(result))\n",
      "c:\\Users\\Vivian\\anaconda3\\envs\\conch\\lib\\site-packages\\sklearn\\metrics\\_classification.py:1531: UndefinedMetricWarning: Recall is ill-defined and being set to 0.0 in labels with no true samples. Use `zero_division` parameter to control this behavior.\n",
      "  _warn_prf(average, modifier, f\"{metric.capitalize()} is\", len(result))\n",
      "c:\\Users\\Vivian\\anaconda3\\envs\\conch\\lib\\site-packages\\sklearn\\metrics\\_classification.py:1531: UndefinedMetricWarning: Recall is ill-defined and being set to 0.0 in labels with no true samples. Use `zero_division` parameter to control this behavior.\n",
      "  _warn_prf(average, modifier, f\"{metric.capitalize()} is\", len(result))\n"
     ]
    }
   ],
   "source": [
    "from functools import partial\n",
    "# metadata_path = r\"C:\\Users\\Vivian\\Documents\\CONCH\\breakhis_scripts\\metadata_folds.csv\"\n",
    "# model_save_dir = r\"C:\\Users\\Vivian\\Documents\\CONCH\\_finetune_weights_CONCH\\breakhis_multiclass\"\n",
    "# results_csv_dir = r\"C:\\Users\\Vivian\\Documents\\CONCH\\breakhis_scripts\\CONCH_multiclass\"\n",
    "# results_csv_path = os.path.join(results_csv_dir, \"CONCH_fullft_results.csv\")\n",
    "metadata_path = r\"C:\\Users\\Vivian\\Documents\\CONCH\\breakhis_scripts\\metadata_folds.csv\"\n",
    "model_save_dir = r\"C:\\Users\\Vivian\\Documents\\CONCH\\_finetune_weights_UNI\\breakhis_multiclass\"\n",
    "results_csv_dir = r\"C:\\Users\\Vivian\\Documents\\CONCH\\breakhis_scripts\\UNI_multiclass\"\n",
    "results_csv_path = os.path.join(results_csv_dir, \"UNI_fullft_results.csv\")\n",
    "\n",
    "run_k_fold_finetuning(\n",
    "    model=model,  # your fine-tuning model\n",
    "    k_folds=5,\n",
    "    train_loader_fn=make_train_loader,\n",
    "    test_loader_fn=make_test_loader,\n",
    "    model_save_dir=model_save_dir,\n",
    "    results_csv_path=results_csv_path,\n",
    "    device='cuda',\n",
    "    lr=2e-5,\n",
    "    num_epochs=5,\n",
    "    patience=5,\n",
    "    is_binary=False\n",
    ")\n"
   ]
  }
 ],
 "metadata": {
  "kernelspec": {
   "display_name": "conch",
   "language": "python",
   "name": "python3"
  },
  "language_info": {
   "codemirror_mode": {
    "name": "ipython",
    "version": 3
   },
   "file_extension": ".py",
   "mimetype": "text/x-python",
   "name": "python",
   "nbconvert_exporter": "python",
   "pygments_lexer": "ipython3",
   "version": "3.10.15"
  }
 },
 "nbformat": 4,
 "nbformat_minor": 2
}
