{
 "cells": [
  {
   "cell_type": "code",
   "execution_count": 9,
   "metadata": {},
   "outputs": [],
   "source": [
    "import cv2\n",
    "import numpy as np"
   ]
  },
  {
   "cell_type": "code",
   "execution_count": 10,
   "metadata": {},
   "outputs": [],
   "source": [
    "mask = cv2.imread(\"PT41B_mask.png\", cv2.IMREAD_GRAYSCALE)"
   ]
  },
  {
   "cell_type": "code",
   "execution_count": 11,
   "metadata": {},
   "outputs": [
    {
     "name": "stdout",
     "output_type": "stream",
     "text": [
      "(22768, 25500)\n",
      "Mask dtype: uint8\n",
      "Mask shape: (22768, 25500)\n",
      "Unique values in mask: [  0 255]\n"
     ]
    }
   ],
   "source": [
    "# visualize the mask\n",
    "# cv2.imshow(\"mask\", mask)\n",
    "\n",
    "#  print size\n",
    "print(mask.shape)\n",
    "\n",
    "print(\"Mask dtype:\", mask.dtype)\n",
    "print(\"Mask shape:\", mask.shape)\n",
    "print(\"Unique values in mask:\", np.unique(mask))\n",
    "\n",
    "\n",
    "# # display thumbnail of mask\n",
    "# mask = cv2.resize(mask, (mask.shape[1] // 10, mask.shape[0] // 10))\n",
    "# cv2.imshow(\"mask\", mask)\n",
    "# cv2.waitKey(0)\n",
    "# cv2.destroyAllWindows()\n",
    "\n"
   ]
  }
 ],
 "metadata": {
  "kernelspec": {
   "display_name": "conch",
   "language": "python",
   "name": "python3"
  },
  "language_info": {
   "codemirror_mode": {
    "name": "ipython",
    "version": 3
   },
   "file_extension": ".py",
   "mimetype": "text/x-python",
   "name": "python",
   "nbconvert_exporter": "python",
   "pygments_lexer": "ipython3",
   "version": "3.10.15"
  }
 },
 "nbformat": 4,
 "nbformat_minor": 2
}
